{
  "nbformat": 4,
  "nbformat_minor": 0,
  "metadata": {
    "colab": {
      "name": "Program1.ipynb",
      "provenance": [],
      "authorship_tag": "ABX9TyMB+VgHAmIUzweee6glpkGn",
      "include_colab_link": true
    },
    "kernelspec": {
      "name": "python3",
      "display_name": "Python 3"
    }
  },
  "cells": [
    {
      "cell_type": "markdown",
      "metadata": {
        "id": "view-in-github",
        "colab_type": "text"
      },
      "source": [
        "<a href=\"https://colab.research.google.com/github/nrmkarthi/-datasciencecoursera/blob/master/Program1.ipynb\" target=\"_parent\"><img src=\"https://colab.research.google.com/assets/colab-badge.svg\" alt=\"Open In Colab\"/></a>"
      ]
    },
    {
      "cell_type": "markdown",
      "metadata": {
        "id": "SbnKRwldmJ12",
        "colab_type": "text"
      },
      "source": [
        ""
      ]
    },
    {
      "cell_type": "markdown",
      "metadata": {
        "id": "yZ48n1QSmPb4",
        "colab_type": "text"
      },
      "source": [
        "# first program\n",
        "this program print welcome "
      ]
    },
    {
      "cell_type": "code",
      "metadata": {
        "id": "zL6GmrEmmsef",
        "colab_type": "code",
        "colab": {
          "base_uri": "https://localhost:8080/",
          "height": 34
        },
        "outputId": "9064b231-548e-406d-b7ba-98e3ae8f33f9"
      },
      "source": [
        "print(\"welcome\")"
      ],
      "execution_count": 1,
      "outputs": [
        {
          "output_type": "stream",
          "text": [
            "welcome\n"
          ],
          "name": "stdout"
        }
      ]
    }
  ]
}